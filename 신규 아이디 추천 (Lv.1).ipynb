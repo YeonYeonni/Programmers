{
 "cells": [
  {
   "cell_type": "code",
   "execution_count": 1,
   "id": "0c0e6399",
   "metadata": {},
   "outputs": [],
   "source": [
    "def solution(new_id):\n",
    "    answer = ''\n",
    "    \n",
    "    # 1단계\n",
    "    new_id = new_id.lower()\n",
    "    \n",
    "    # 2단계\n",
    "    for i in new_id:\n",
    "        if i.isalpha() or i.isdigit() or i in ['-', '_', '.']:\n",
    "            answer += i\n",
    "            \n",
    "    # 3단계\n",
    "    while '..' in answer:\n",
    "        answer = answer.replace('..', '.')\n",
    "        \n",
    "    # 4단계\n",
    "    if answer[0] == '.':\n",
    "        answer = answer[1:] if len(answer) > 1 else '.'\n",
    "        \n",
    "    if answer[-1] == '.':\n",
    "        answer = answer[:-1]\n",
    "        \n",
    "    # 5단계\n",
    "    if len(answer) == 0:\n",
    "        answer = 'a'\n",
    "        \n",
    "    # 6단계\n",
    "    if len(answer) > 15:\n",
    "        answer = answer[:15]\n",
    "        \n",
    "        if answer[-1] == '.':\n",
    "            answer = answer[:-1]\n",
    "    \n",
    "    # 7단계\n",
    "    while len(answer) < 3:\n",
    "        answer += answer[-1]\n",
    "    \n",
    "    return answer"
   ]
  },
  {
   "cell_type": "code",
   "execution_count": null,
   "id": "0513d3b5",
   "metadata": {},
   "outputs": [],
   "source": []
  }
 ],
 "metadata": {
  "kernelspec": {
   "display_name": "Python 3 (ipykernel)",
   "language": "python",
   "name": "python3"
  },
  "language_info": {
   "codemirror_mode": {
    "name": "ipython",
    "version": 3
   },
   "file_extension": ".py",
   "mimetype": "text/x-python",
   "name": "python",
   "nbconvert_exporter": "python",
   "pygments_lexer": "ipython3",
   "version": "3.8.6"
  }
 },
 "nbformat": 4,
 "nbformat_minor": 5
}
