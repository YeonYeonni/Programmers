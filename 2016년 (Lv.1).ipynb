{
 "cells": [
  {
   "cell_type": "code",
   "execution_count": 1,
   "id": "72cb74af",
   "metadata": {},
   "outputs": [],
   "source": [
    "def solution(a, b):\n",
    "    answer = 0\n",
    "    days = ['FRI','SAT','SUN','MON','TUE','WED','THU']\n",
    "    months = [31, 29, 31, 30, 31, 30,31, 31, 30, 31, 30, 31]\n",
    "    \n",
    "    for i in range(a - 1):\n",
    "        answer += months[i]\n",
    "        \n",
    "    answer += b - 1\n",
    "    answer = answer % 7\n",
    "    \n",
    "    return days[answer]"
   ]
  },
  {
   "cell_type": "code",
   "execution_count": null,
   "id": "5b565a10",
   "metadata": {},
   "outputs": [],
   "source": []
  }
 ],
 "metadata": {
  "kernelspec": {
   "display_name": "Python 3 (ipykernel)",
   "language": "python",
   "name": "python3"
  },
  "language_info": {
   "codemirror_mode": {
    "name": "ipython",
    "version": 3
   },
   "file_extension": ".py",
   "mimetype": "text/x-python",
   "name": "python",
   "nbconvert_exporter": "python",
   "pygments_lexer": "ipython3",
   "version": "3.8.6"
  }
 },
 "nbformat": 4,
 "nbformat_minor": 5
}
