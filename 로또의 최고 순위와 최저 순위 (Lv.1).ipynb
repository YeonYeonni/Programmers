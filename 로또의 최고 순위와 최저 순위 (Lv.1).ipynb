{
 "cells": [
  {
   "cell_type": "code",
   "execution_count": 1,
   "id": "812a6283",
   "metadata": {},
   "outputs": [],
   "source": [
    "def solution(lottos, win_nums):\n",
    "    answer = []\n",
    "    correct = {6:1, 5:2, 4:3, 3:4, 2:5, 1:6, 0:6}\n",
    "    result = 0\n",
    "    zeros = 0\n",
    "    \n",
    "    # lottos의 0의 개수 세기\n",
    "    for i in lottos:\n",
    "        if i == 0:\n",
    "            zeros += 1\n",
    "    \n",
    "    # 0을 제외한 나머지 숫자 비교\n",
    "    for i in range(len(lottos)):\n",
    "        for j in range(len(win_nums)):\n",
    "            if lottos[i] == win_nums[j]:\n",
    "                result += 1\n",
    "\n",
    "    return correct[result+zeros], correct[result]"
   ]
  },
  {
   "cell_type": "code",
   "execution_count": null,
   "id": "a4a06c20",
   "metadata": {},
   "outputs": [],
   "source": []
  }
 ],
 "metadata": {
  "kernelspec": {
   "display_name": "Python 3 (ipykernel)",
   "language": "python",
   "name": "python3"
  },
  "language_info": {
   "codemirror_mode": {
    "name": "ipython",
    "version": 3
   },
   "file_extension": ".py",
   "mimetype": "text/x-python",
   "name": "python",
   "nbconvert_exporter": "python",
   "pygments_lexer": "ipython3",
   "version": "3.8.6"
  }
 },
 "nbformat": 4,
 "nbformat_minor": 5
}
