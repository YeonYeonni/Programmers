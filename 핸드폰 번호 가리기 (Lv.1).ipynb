{
 "cells": [
  {
   "cell_type": "code",
   "execution_count": 1,
   "id": "7e0528b3",
   "metadata": {},
   "outputs": [],
   "source": [
    "def solution(phone_number):\n",
    "    answer = ''\n",
    "    data = []\n",
    "    \n",
    "    data = list(''.join(phone_number))\n",
    "    \n",
    "    for i in range(0, len(data) - 4):\n",
    "        answer += '*'\n",
    "    \n",
    "    for j in range(len(data) - 4, len(data)):\n",
    "        answer += data[j]\n",
    "    \n",
    "    return answer"
   ]
  },
  {
   "cell_type": "code",
   "execution_count": null,
   "id": "6f76712e",
   "metadata": {},
   "outputs": [],
   "source": []
  }
 ],
 "metadata": {
  "kernelspec": {
   "display_name": "Python 3 (ipykernel)",
   "language": "python",
   "name": "python3"
  },
  "language_info": {
   "codemirror_mode": {
    "name": "ipython",
    "version": 3
   },
   "file_extension": ".py",
   "mimetype": "text/x-python",
   "name": "python",
   "nbconvert_exporter": "python",
   "pygments_lexer": "ipython3",
   "version": "3.8.6"
  }
 },
 "nbformat": 4,
 "nbformat_minor": 5
}
