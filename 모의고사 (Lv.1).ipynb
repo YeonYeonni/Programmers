{
 "cells": [
  {
   "cell_type": "code",
   "execution_count": 1,
   "id": "844b5a21",
   "metadata": {},
   "outputs": [],
   "source": [
    "def solution(answers):\n",
    "    answer = []\n",
    "\n",
    "    # 수포자 1\n",
    "    one = [1, 2, 3, 4, 5]\n",
    "    # 수포자 2\n",
    "    two = [2, 1, 2, 3, 2, 4, 2, 5]\n",
    "    # 수포자 3\n",
    "    three = [3, 3, 1, 1, 2, 2, 4, 4, 5, 5]\n",
    "    \n",
    "    # cnt\n",
    "    cnt = [0, 0, 0]\n",
    "    \n",
    "    for i in range(len(answers)):\n",
    "        if answers[i] == one[i % len(one)]:\n",
    "            cnt[0] += 1\n",
    "            \n",
    "        if answers[i] == two[i % len(two)]:\n",
    "            cnt[1] += 1\n",
    "            \n",
    "        if answers[i] == three[i % len(three)]:\n",
    "            cnt[2] += 1\n",
    "            \n",
    "    # 가장 많이 맞춘 수\n",
    "    max_cnt = max(cnt)\n",
    "    \n",
    "    for i in range(3):\n",
    "        if max_cnt == cnt[i]:\n",
    "            answer.append(i + 1)\n",
    "            \n",
    "    return answer"
   ]
  },
  {
   "cell_type": "code",
   "execution_count": null,
   "id": "ce31b1fc",
   "metadata": {},
   "outputs": [],
   "source": []
  }
 ],
 "metadata": {
  "kernelspec": {
   "display_name": "Python 3 (ipykernel)",
   "language": "python",
   "name": "python3"
  },
  "language_info": {
   "codemirror_mode": {
    "name": "ipython",
    "version": 3
   },
   "file_extension": ".py",
   "mimetype": "text/x-python",
   "name": "python",
   "nbconvert_exporter": "python",
   "pygments_lexer": "ipython3",
   "version": "3.8.6"
  }
 },
 "nbformat": 4,
 "nbformat_minor": 5
}
