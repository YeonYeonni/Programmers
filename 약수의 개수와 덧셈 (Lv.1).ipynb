{
 "cells": [
  {
   "cell_type": "code",
   "execution_count": 1,
   "id": "464560c5",
   "metadata": {},
   "outputs": [],
   "source": [
    "def solution(left, right):\n",
    "    answer = 0\n",
    "    \n",
    "    \n",
    "    for i in range(left, right + 1):\n",
    "        idx = []\n",
    "        \n",
    "        for j in range(1, i + 1):\n",
    "            \n",
    "            if i % j == 0:\n",
    "                idx.append(j)\n",
    "\n",
    "        if len(idx) % 2 == 0:\n",
    "            answer += i\n",
    "            \n",
    "        else:\n",
    "            answer -= i\n",
    "                \n",
    "    \n",
    "    return answer"
   ]
  },
  {
   "cell_type": "code",
   "execution_count": null,
   "id": "4428d007",
   "metadata": {},
   "outputs": [],
   "source": []
  }
 ],
 "metadata": {
  "kernelspec": {
   "display_name": "Python 3 (ipykernel)",
   "language": "python",
   "name": "python3"
  },
  "language_info": {
   "codemirror_mode": {
    "name": "ipython",
    "version": 3
   },
   "file_extension": ".py",
   "mimetype": "text/x-python",
   "name": "python",
   "nbconvert_exporter": "python",
   "pygments_lexer": "ipython3",
   "version": "3.8.6"
  }
 },
 "nbformat": 4,
 "nbformat_minor": 5
}
