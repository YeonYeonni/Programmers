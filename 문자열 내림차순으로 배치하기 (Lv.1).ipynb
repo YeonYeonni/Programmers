{
 "cells": [
  {
   "cell_type": "code",
   "execution_count": 1,
   "id": "175c7294",
   "metadata": {},
   "outputs": [],
   "source": [
    "def solution(s):\n",
    "    \n",
    "    print(s)\n",
    "    \n",
    "    data = list(''.join(s))\n",
    "    data.sort(reverse = True)\n",
    "    s = ''.join(map(str, data))\n",
    "  \n",
    "    return s"
   ]
  },
  {
   "cell_type": "code",
   "execution_count": null,
   "id": "03d49909",
   "metadata": {},
   "outputs": [],
   "source": []
  }
 ],
 "metadata": {
  "kernelspec": {
   "display_name": "Python 3 (ipykernel)",
   "language": "python",
   "name": "python3"
  },
  "language_info": {
   "codemirror_mode": {
    "name": "ipython",
    "version": 3
   },
   "file_extension": ".py",
   "mimetype": "text/x-python",
   "name": "python",
   "nbconvert_exporter": "python",
   "pygments_lexer": "ipython3",
   "version": "3.8.6"
  }
 },
 "nbformat": 4,
 "nbformat_minor": 5
}
