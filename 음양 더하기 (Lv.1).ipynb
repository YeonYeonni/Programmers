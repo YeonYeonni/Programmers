{
 "cells": [
  {
   "cell_type": "code",
   "execution_count": 1,
   "id": "b6cf3acf",
   "metadata": {},
   "outputs": [],
   "source": [
    "def solution(absolutes, signs):\n",
    "    answer = 0\n",
    "    \n",
    "    for i in range(len(absolutes)):\n",
    "        if signs[i]:\n",
    "            answer += absolutes[i]\n",
    "            \n",
    "        else:\n",
    "            answer += - (absolutes[i])\n",
    "\n",
    "    return answer"
   ]
  },
  {
   "cell_type": "code",
   "execution_count": null,
   "id": "b2ef4e46",
   "metadata": {},
   "outputs": [],
   "source": []
  }
 ],
 "metadata": {
  "kernelspec": {
   "display_name": "Python 3 (ipykernel)",
   "language": "python",
   "name": "python3"
  },
  "language_info": {
   "codemirror_mode": {
    "name": "ipython",
    "version": 3
   },
   "file_extension": ".py",
   "mimetype": "text/x-python",
   "name": "python",
   "nbconvert_exporter": "python",
   "pygments_lexer": "ipython3",
   "version": "3.8.6"
  }
 },
 "nbformat": 4,
 "nbformat_minor": 5
}
